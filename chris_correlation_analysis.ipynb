{
 "cells": [
  {
   "cell_type": "code",
   "execution_count": 1,
   "id": "beb035b2",
   "metadata": {},
   "outputs": [],
   "source": [
    "import pandas as pd\n",
    "import numpy as np\n",
    "\n",
    "#import warnings\n",
    "#warnings.filterwarnings(\"ignore\")"
   ]
  },
  {
   "cell_type": "code",
   "execution_count": 2,
   "id": "58dc1b26",
   "metadata": {},
   "outputs": [
    {
     "data": {
      "text/html": [
       "<div>\n",
       "<style scoped>\n",
       "    .dataframe tbody tr th:only-of-type {\n",
       "        vertical-align: middle;\n",
       "    }\n",
       "\n",
       "    .dataframe tbody tr th {\n",
       "        vertical-align: top;\n",
       "    }\n",
       "\n",
       "    .dataframe thead th {\n",
       "        text-align: right;\n",
       "    }\n",
       "</style>\n",
       "<table border=\"1\" class=\"dataframe\">\n",
       "  <thead>\n",
       "    <tr style=\"text-align: right;\">\n",
       "      <th></th>\n",
       "      <th>Variable</th>\n",
       "      <th>Description</th>\n",
       "    </tr>\n",
       "  </thead>\n",
       "  <tbody>\n",
       "    <tr>\n",
       "      <th>0</th>\n",
       "      <td>actualdpd_943P</td>\n",
       "      <td>Days Past Due (DPD) of previous contract (actu...</td>\n",
       "    </tr>\n",
       "    <tr>\n",
       "      <th>1</th>\n",
       "      <td>actualdpdtolerance_344P</td>\n",
       "      <td>DPD of client with tolerance.</td>\n",
       "    </tr>\n",
       "    <tr>\n",
       "      <th>2</th>\n",
       "      <td>addres_district_368M</td>\n",
       "      <td>District of the person's address.</td>\n",
       "    </tr>\n",
       "    <tr>\n",
       "      <th>3</th>\n",
       "      <td>addres_role_871L</td>\n",
       "      <td>Role of person's address.</td>\n",
       "    </tr>\n",
       "    <tr>\n",
       "      <th>4</th>\n",
       "      <td>addres_zip_823M</td>\n",
       "      <td>Zip code of the address.</td>\n",
       "    </tr>\n",
       "    <tr>\n",
       "      <th>...</th>\n",
       "      <td>...</td>\n",
       "      <td>...</td>\n",
       "    </tr>\n",
       "    <tr>\n",
       "      <th>460</th>\n",
       "      <td>totinstallast1m_4525188A</td>\n",
       "      <td>Total amount of monthly instalments paid in th...</td>\n",
       "    </tr>\n",
       "    <tr>\n",
       "      <th>461</th>\n",
       "      <td>twobodfilling_608L</td>\n",
       "      <td>Type of application process.</td>\n",
       "    </tr>\n",
       "    <tr>\n",
       "      <th>462</th>\n",
       "      <td>type_25L</td>\n",
       "      <td>Contact type of a person.</td>\n",
       "    </tr>\n",
       "    <tr>\n",
       "      <th>463</th>\n",
       "      <td>typesuite_864L</td>\n",
       "      <td>Persons accompanying the client during the loa...</td>\n",
       "    </tr>\n",
       "    <tr>\n",
       "      <th>464</th>\n",
       "      <td>validfrom_1069D</td>\n",
       "      <td>Date since the client has an active campaign.</td>\n",
       "    </tr>\n",
       "  </tbody>\n",
       "</table>\n",
       "<p>465 rows × 2 columns</p>\n",
       "</div>"
      ],
      "text/plain": [
       "                     Variable  \\\n",
       "0              actualdpd_943P   \n",
       "1     actualdpdtolerance_344P   \n",
       "2        addres_district_368M   \n",
       "3            addres_role_871L   \n",
       "4             addres_zip_823M   \n",
       "..                        ...   \n",
       "460  totinstallast1m_4525188A   \n",
       "461        twobodfilling_608L   \n",
       "462                  type_25L   \n",
       "463            typesuite_864L   \n",
       "464           validfrom_1069D   \n",
       "\n",
       "                                           Description  \n",
       "0    Days Past Due (DPD) of previous contract (actu...  \n",
       "1                        DPD of client with tolerance.  \n",
       "2                    District of the person's address.  \n",
       "3                            Role of person's address.  \n",
       "4                             Zip code of the address.  \n",
       "..                                                 ...  \n",
       "460  Total amount of monthly instalments paid in th...  \n",
       "461                       Type of application process.  \n",
       "462                          Contact type of a person.  \n",
       "463  Persons accompanying the client during the loa...  \n",
       "464      Date since the client has an active campaign.  \n",
       "\n",
       "[465 rows x 2 columns]"
      ]
     },
     "execution_count": 2,
     "metadata": {},
     "output_type": "execute_result"
    }
   ],
   "source": [
    "data_dict = pd.read_csv('feature_definitions.csv')\n",
    "#data_dict['target']=np.NaN\n",
    "#data_dict[data_dict['Variable']=='num_group1']\n",
    "#data_dict['Variable'].unique()\n",
    "data_dict"
   ]
  },
  {
   "cell_type": "code",
   "execution_count": 3,
   "id": "7ec7b374",
   "metadata": {},
   "outputs": [],
   "source": [
    "import os\n",
    "file_list = ['./csv_files/train/' + file for file in os.listdir('./csv_files/train/')]\n",
    "train_dir = './csv_files/train/train_'"
   ]
  },
  {
   "cell_type": "code",
   "execution_count": 4,
   "id": "74c52f42",
   "metadata": {},
   "outputs": [
    {
     "data": {
      "text/html": [
       "<div>\n",
       "<style scoped>\n",
       "    .dataframe tbody tr th:only-of-type {\n",
       "        vertical-align: middle;\n",
       "    }\n",
       "\n",
       "    .dataframe tbody tr th {\n",
       "        vertical-align: top;\n",
       "    }\n",
       "\n",
       "    .dataframe thead th {\n",
       "        text-align: right;\n",
       "    }\n",
       "</style>\n",
       "<table border=\"1\" class=\"dataframe\">\n",
       "  <thead>\n",
       "    <tr style=\"text-align: right;\">\n",
       "      <th></th>\n",
       "      <th>case_id</th>\n",
       "      <th>date_decision</th>\n",
       "      <th>MONTH</th>\n",
       "      <th>WEEK_NUM</th>\n",
       "      <th>target</th>\n",
       "    </tr>\n",
       "  </thead>\n",
       "  <tbody>\n",
       "    <tr>\n",
       "      <th>0</th>\n",
       "      <td>0</td>\n",
       "      <td>2019-01-03</td>\n",
       "      <td>201901</td>\n",
       "      <td>0</td>\n",
       "      <td>0</td>\n",
       "    </tr>\n",
       "    <tr>\n",
       "      <th>1</th>\n",
       "      <td>1</td>\n",
       "      <td>2019-01-03</td>\n",
       "      <td>201901</td>\n",
       "      <td>0</td>\n",
       "      <td>0</td>\n",
       "    </tr>\n",
       "    <tr>\n",
       "      <th>2</th>\n",
       "      <td>2</td>\n",
       "      <td>2019-01-04</td>\n",
       "      <td>201901</td>\n",
       "      <td>0</td>\n",
       "      <td>0</td>\n",
       "    </tr>\n",
       "    <tr>\n",
       "      <th>3</th>\n",
       "      <td>3</td>\n",
       "      <td>2019-01-03</td>\n",
       "      <td>201901</td>\n",
       "      <td>0</td>\n",
       "      <td>0</td>\n",
       "    </tr>\n",
       "    <tr>\n",
       "      <th>4</th>\n",
       "      <td>4</td>\n",
       "      <td>2019-01-04</td>\n",
       "      <td>201901</td>\n",
       "      <td>0</td>\n",
       "      <td>1</td>\n",
       "    </tr>\n",
       "    <tr>\n",
       "      <th>...</th>\n",
       "      <td>...</td>\n",
       "      <td>...</td>\n",
       "      <td>...</td>\n",
       "      <td>...</td>\n",
       "      <td>...</td>\n",
       "    </tr>\n",
       "    <tr>\n",
       "      <th>1526654</th>\n",
       "      <td>2703450</td>\n",
       "      <td>2020-10-05</td>\n",
       "      <td>202010</td>\n",
       "      <td>91</td>\n",
       "      <td>0</td>\n",
       "    </tr>\n",
       "    <tr>\n",
       "      <th>1526655</th>\n",
       "      <td>2703451</td>\n",
       "      <td>2020-10-05</td>\n",
       "      <td>202010</td>\n",
       "      <td>91</td>\n",
       "      <td>0</td>\n",
       "    </tr>\n",
       "    <tr>\n",
       "      <th>1526656</th>\n",
       "      <td>2703452</td>\n",
       "      <td>2020-10-05</td>\n",
       "      <td>202010</td>\n",
       "      <td>91</td>\n",
       "      <td>0</td>\n",
       "    </tr>\n",
       "    <tr>\n",
       "      <th>1526657</th>\n",
       "      <td>2703453</td>\n",
       "      <td>2020-10-05</td>\n",
       "      <td>202010</td>\n",
       "      <td>91</td>\n",
       "      <td>0</td>\n",
       "    </tr>\n",
       "    <tr>\n",
       "      <th>1526658</th>\n",
       "      <td>2703454</td>\n",
       "      <td>2020-10-05</td>\n",
       "      <td>202010</td>\n",
       "      <td>91</td>\n",
       "      <td>0</td>\n",
       "    </tr>\n",
       "  </tbody>\n",
       "</table>\n",
       "<p>1526659 rows × 5 columns</p>\n",
       "</div>"
      ],
      "text/plain": [
       "         case_id date_decision   MONTH  WEEK_NUM  target\n",
       "0              0    2019-01-03  201901         0       0\n",
       "1              1    2019-01-03  201901         0       0\n",
       "2              2    2019-01-04  201901         0       0\n",
       "3              3    2019-01-03  201901         0       0\n",
       "4              4    2019-01-04  201901         0       1\n",
       "...          ...           ...     ...       ...     ...\n",
       "1526654  2703450    2020-10-05  202010        91       0\n",
       "1526655  2703451    2020-10-05  202010        91       0\n",
       "1526656  2703452    2020-10-05  202010        91       0\n",
       "1526657  2703453    2020-10-05  202010        91       0\n",
       "1526658  2703454    2020-10-05  202010        91       0\n",
       "\n",
       "[1526659 rows x 5 columns]"
      ]
     },
     "execution_count": 4,
     "metadata": {},
     "output_type": "execute_result"
    }
   ],
   "source": [
    "base = pd.read_csv(train_dir+'base.csv')\n",
    "base"
   ]
  },
  {
   "cell_type": "code",
   "execution_count": 5,
   "id": "cea62476",
   "metadata": {},
   "outputs": [],
   "source": [
    "def min_columns(base_start, table, cols=10, verbose=0):\n",
    "    global data_dict\n",
    "\n",
    "    #read in and concatenate the files\n",
    "    files = sorted([file for file in file_list if table in file])\n",
    "    add_columns = pd.read_csv(files[0])\n",
    "    if len(files)>1:\n",
    "        for _,file in enumerate(files[1:]):\n",
    "            add_columns = pd.concat([add_columns,pd.read_csv(file)])\n",
    "    \n",
    "    #add table name to data_dict\n",
    "    data_dict.loc[data_dict['Variable'].isin(list(add_columns.columns)),'Table']=table\n",
    "    \n",
    "    #join base and new table\n",
    "    base_join = base_start.join(add_columns.set_index('case_id'), how='left', on='case_id')\n",
    "    corr = base_join.corr()['target']\n",
    "    \n",
    "    #put correlations to target into a column of data_dict\n",
    "    data_dict = data_dict.join(corr, how='left',on='Variable',rsuffix='_new')\n",
    "    if 'target_new' in data_dict.columns:\n",
    "        data_dict['target'] = data_dict['target'].combine_first(data_dict['target_new'])\n",
    "        data_dict.drop(['target_new'],axis=1,inplace=True)\n",
    "    \n",
    "    #make a column of data_dict be True if Top10 correlation\n",
    "    best_cols = list(corr.sort_values(ascending=False).head(cols).keys())\n",
    "    data_dict.loc[data_dict['Variable'].isin(best_cols),'Top'+str(cols)]=True\n",
    "\n",
    "    #drop all columns but top 10 correlations\n",
    "    best_cols.append('case_id')\n",
    "    base_min = base_join.drop(base_join.columns.difference(best_cols),1)\n",
    "\n",
    "    if(verbose!=0):\n",
    "        print(base_join)\n",
    "        print(corr)\n",
    "        print(best_cols)\n",
    "\n",
    "    return base_min"
   ]
  },
  {
   "cell_type": "code",
   "execution_count": 10,
   "id": "8b87a444",
   "metadata": {},
   "outputs": [
    {
     "ename": "TypeError",
     "evalue": "arg must be a list, tuple, 1-d array, or Series",
     "output_type": "error",
     "traceback": [
      "\u001b[0;31m---------------------------------------------------------------------------\u001b[0m",
      "\u001b[0;31mTypeError\u001b[0m                                 Traceback (most recent call last)",
      "Cell \u001b[0;32mIn[10], line 1\u001b[0m\n\u001b[0;32m----> 1\u001b[0m \u001b[43mpd\u001b[49m\u001b[38;5;241;43m.\u001b[39;49m\u001b[43mto_numeric\u001b[49m\u001b[43m(\u001b[49m\u001b[43mstatic_cb_0_min\u001b[49m\u001b[43m)\u001b[49m\n",
      "File \u001b[0;32m~/anaconda3/lib/python3.10/site-packages/pandas/core/tools/numeric.py:165\u001b[0m, in \u001b[0;36mto_numeric\u001b[0;34m(arg, errors, downcast)\u001b[0m\n\u001b[1;32m    163\u001b[0m     values \u001b[38;5;241m=\u001b[39m np\u001b[38;5;241m.\u001b[39marray([arg], dtype\u001b[38;5;241m=\u001b[39m\u001b[38;5;124m\"\u001b[39m\u001b[38;5;124mO\u001b[39m\u001b[38;5;124m\"\u001b[39m)\n\u001b[1;32m    164\u001b[0m \u001b[38;5;28;01melif\u001b[39;00m \u001b[38;5;28mgetattr\u001b[39m(arg, \u001b[38;5;124m\"\u001b[39m\u001b[38;5;124mndim\u001b[39m\u001b[38;5;124m\"\u001b[39m, \u001b[38;5;241m1\u001b[39m) \u001b[38;5;241m>\u001b[39m \u001b[38;5;241m1\u001b[39m:\n\u001b[0;32m--> 165\u001b[0m     \u001b[38;5;28;01mraise\u001b[39;00m \u001b[38;5;167;01mTypeError\u001b[39;00m(\u001b[38;5;124m\"\u001b[39m\u001b[38;5;124marg must be a list, tuple, 1-d array, or Series\u001b[39m\u001b[38;5;124m\"\u001b[39m)\n\u001b[1;32m    166\u001b[0m \u001b[38;5;28;01melse\u001b[39;00m:\n\u001b[1;32m    167\u001b[0m     values \u001b[38;5;241m=\u001b[39m arg\n",
      "\u001b[0;31mTypeError\u001b[0m: arg must be a list, tuple, 1-d array, or Series"
     ]
    }
   ],
   "source": [
    "pd.to_numeric(static_cb_0_min)"
   ]
  },
  {
   "cell_type": "code",
   "execution_count": null,
   "id": "e19452d3",
   "metadata": {},
   "outputs": [],
   "source": [
    "static_0_min = min_columns(base, 'static_0')\n",
    "print(static_0_min.columns)"
   ]
  },
  {
   "cell_type": "code",
   "execution_count": 7,
   "id": "57fa3eba",
   "metadata": {},
   "outputs": [
    {
     "name": "stderr",
     "output_type": "stream",
     "text": [
      "/var/folders/6d/cwp4j2v924nckbmg2vzzzrbm0000gn/T/ipykernel_32184/2231762045.py:6: DtypeWarning: Columns (1,2,3,4,7,45,46,47,48) have mixed types. Specify dtype option on import or set low_memory=False.\n",
      "  add_columns = pd.read_csv(files[0])\n",
      "/var/folders/6d/cwp4j2v924nckbmg2vzzzrbm0000gn/T/ipykernel_32184/2231762045.py:16: FutureWarning: The default value of numeric_only in DataFrame.corr is deprecated. In a future version, it will default to False. Select only valid columns or specify the value of numeric_only to silence this warning.\n",
      "  corr = base_join.corr()['target']\n",
      "/var/folders/6d/cwp4j2v924nckbmg2vzzzrbm0000gn/T/ipykernel_32184/2231762045.py:30: FutureWarning: In a future version of pandas all arguments of DataFrame.drop except for the argument 'labels' will be keyword-only.\n",
      "  base_min = base_join.drop(base_join.columns.difference(best_cols),1)\n"
     ]
    },
    {
     "name": "stdout",
     "output_type": "stream",
     "text": [
      "Index(['case_id', 'target', 'days120_123L', 'days180_256L', 'days30_165L',\n",
      "       'days360_512L', 'days90_310L', 'formonth_535L', 'forquarter_634L',\n",
      "       'foryear_850L', 'numberofqueries_373L'],\n",
      "      dtype='object')\n"
     ]
    }
   ],
   "source": [
    "static_cb_0_min = min_columns(base, 'static_cb_0')\n",
    "print(static_cb_0_min.columns)"
   ]
  },
  {
   "cell_type": "code",
   "execution_count": null,
   "id": "39d17744",
   "metadata": {},
   "outputs": [],
   "source": [
    "data_dict[data_dict['Top10']==True]"
   ]
  },
  {
   "cell_type": "code",
   "execution_count": null,
   "id": "75852ff4",
   "metadata": {},
   "outputs": [],
   "source": [
    "applprev_1_min = min_columns(base, 'applprev_1')\n",
    "print(applprev_1_min.columns)"
   ]
  },
  {
   "cell_type": "code",
   "execution_count": null,
   "id": "402bb97c",
   "metadata": {},
   "outputs": [],
   "source": [
    "applprev_2_min = min_columns(base, 'applprev_2')\n",
    "print(applprev_2_min.columns)"
   ]
  },
  {
   "cell_type": "code",
   "execution_count": null,
   "id": "2fa757fa",
   "metadata": {},
   "outputs": [],
   "source": [
    "other_1_min = min_columns(base, 'other_1')\n",
    "print(other_1_min.columns)"
   ]
  },
  {
   "cell_type": "code",
   "execution_count": null,
   "id": "17e979e3",
   "metadata": {},
   "outputs": [],
   "source": [
    "tax_registry_a_1_min = min_columns(base, 'tax_registry_a_1')\n",
    "print(tax_registry_a_1_min.columns)"
   ]
  },
  {
   "cell_type": "code",
   "execution_count": null,
   "id": "3f411595",
   "metadata": {},
   "outputs": [],
   "source": [
    "tax_registry_b_1_min = min_columns(base, 'tax_registry_b_1')\n",
    "print(tax_registry_b_1_min.columns)"
   ]
  },
  {
   "cell_type": "code",
   "execution_count": null,
   "id": "51bd4787",
   "metadata": {},
   "outputs": [],
   "source": [
    "tax_registry_c_1_min = min_columns(base, 'tax_registry_c_1')\n",
    "print(tax_registry_c_1_min.columns)"
   ]
  },
  {
   "cell_type": "code",
   "execution_count": null,
   "id": "ead9b866",
   "metadata": {},
   "outputs": [],
   "source": [
    "credit_bureau_a_1_min = min_columns(base, 'credit_bureau_a_1')\n",
    "print(credit_bureau_a_1_min.columns)"
   ]
  },
  {
   "cell_type": "code",
   "execution_count": null,
   "id": "cf0ce607",
   "metadata": {},
   "outputs": [],
   "source": [
    "credit_bureau_a_2_min = min_columns(base, 'credit_bureau_a_2')\n",
    "print(credit_bureau_a_2_min.columns)"
   ]
  },
  {
   "cell_type": "code",
   "execution_count": null,
   "id": "2d70edc5",
   "metadata": {},
   "outputs": [],
   "source": [
    "credit_bureau_b_1_min = min_columns(base, 'credit_bureau_b_1')\n",
    "print(credit_bureau_b_1_min.columns)"
   ]
  },
  {
   "cell_type": "code",
   "execution_count": null,
   "id": "1568a744",
   "metadata": {},
   "outputs": [],
   "source": [
    "deposit_1_min = min_columns(base, 'deposit_1')\n",
    "print(deposit_1_min.columns)"
   ]
  },
  {
   "cell_type": "code",
   "execution_count": null,
   "id": "38cce3b4",
   "metadata": {},
   "outputs": [],
   "source": [
    "person_1_min = min_columns(base, 'person_1')\n",
    "print(person_1_min.columns)"
   ]
  },
  {
   "cell_type": "code",
   "execution_count": null,
   "id": "61a4ec2f",
   "metadata": {},
   "outputs": [],
   "source": [
    "person_2_min = min_columns(base, 'person_2')\n",
    "print(person_2_min.columns)"
   ]
  },
  {
   "cell_type": "code",
   "execution_count": null,
   "id": "3f8e4014",
   "metadata": {},
   "outputs": [],
   "source": [
    "debitcard_1_min = min_columns(base, 'debitcard_1')\n",
    "print(debitcard_1_min.columns)"
   ]
  },
  {
   "cell_type": "code",
   "execution_count": null,
   "id": "9765cc71",
   "metadata": {},
   "outputs": [],
   "source": []
  }
 ],
 "metadata": {
  "kernelspec": {
   "display_name": "Python 3 (ipykernel)",
   "language": "python",
   "name": "python3"
  },
  "language_info": {
   "codemirror_mode": {
    "name": "ipython",
    "version": 3
   },
   "file_extension": ".py",
   "mimetype": "text/x-python",
   "name": "python",
   "nbconvert_exporter": "python",
   "pygments_lexer": "ipython3",
   "version": "3.10.9"
  }
 },
 "nbformat": 4,
 "nbformat_minor": 5
}
